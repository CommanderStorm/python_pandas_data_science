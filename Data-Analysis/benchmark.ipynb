{
 "cells": [
  {
   "cell_type": "code",
   "execution_count": 16,
   "metadata": {},
   "outputs": [],
   "source": [
    "import pandas as pd\n",
    "import numpy as np\n",
    "import plotly.express as px\n",
    "import plotly.graph_objects as go\n",
    "\n",
    "benchmark_file = \"../Data/benchmark.csv\""
   ]
  },
  {
   "cell_type": "code",
   "execution_count": 17,
   "metadata": {},
   "outputs": [],
   "source": [
    "benchmark_data=pd.read_csv(benchmark_file)\n",
    "\n",
    "human_repl = {}\n",
    "type_repl = {}\n",
    "for lang, lang_repl in {'python': 'Python', 'python_np': 'Python (using numpy)', 'java': 'Java',  'java_direct': 'Java (direct)', 'c': 'C'}.items():\n",
    "    for btype in [\"summarise\",\"summarise_if\",\"no_duplicate\"]:\n",
    "        human_repl[lang+\"_\"+btype]=lang_repl\n",
    "        type_repl[lang+\"_\"+btype]=btype\n",
    "benchmark_data[\"btype\"] = benchmark_data[\"label\"].replace(type_repl)\n",
    "benchmark_data[\"label\"] = benchmark_data[\"label\"].replace(human_repl)"
   ]
  },
  {
   "cell_type": "code",
   "execution_count": 18,
   "outputs": [],
   "source": [
    "for btype in benchmark_data[\"btype\"].unique():\n",
    "    b_df=benchmark_data[benchmark_data[\"btype\"]==btype]\n",
    "    fig = go.Figure()\n",
    "    for name in b_df[\"label\"].unique():\n",
    "        filtered_df = b_df[b_df[\"label\"]==name]\n",
    "        fig.add_trace(go.Box(x=filtered_df[\"n\"], y=filtered_df[\"time [s]\"], name=name))\n",
    "    \n",
    "    fig.update_layout(\n",
    "        legend=dict(yanchor=\"top\", y=1, xanchor=\"left\",x=0),\n",
    "        margin=dict(t=0, r=0, b=0, l=0),\n",
    "        font=dict(\n",
    "            family=\"Times New Roman\",\n",
    "            size=14,\n",
    "            color=\"black\",\n",
    "        )\n",
    "    )\n",
    "    if btype!=\"no_duplicate\":\n",
    "        fig.update_layout(legend=dict(yanchor=\"top\", y=1, xanchor=\"right\",x=1))\n",
    "    fig.update_xaxes(title_text=\"number of items\")\n",
    "    fig.update_yaxes(title_text=\"time [s]\")\n",
    "    if btype==\"summarise\":\n",
    "        fig.update_yaxes(range=[0, 0.4])\n",
    "    if btype==\"summarise_if\":\n",
    "        fig.update_yaxes(range=[0, 1.5])\n",
    "    #fig.show()\n",
    "    fig.write_image(f\"../Results/figures/benchmark/{btype}.eps\")"
   ],
   "metadata": {
    "collapsed": false,
    "pycharm": {
     "name": "#%%\n"
    }
   }
  },
  {
   "cell_type": "code",
   "execution_count": 29,
   "metadata": {},
   "outputs": [],
   "source": [
    "b_df=benchmark_data[benchmark_data[\"btype\"]==\"summarise_if\"]\n",
    "fig = go.Figure()\n",
    "for name in b_df[\"label\"].unique():\n",
    "    filtered_df = b_df[b_df[\"label\"]==name]\n",
    "    fig.add_trace(go.Box(x=filtered_df[\"n\"], y=filtered_df[\"time [s]\"], name=name))\n",
    "\n",
    "fig.update_layout(\n",
    "    title=\"Benchmarking Python, Java and C using a Filter-Then-Sum operation\",\n",
    ")\n",
    "fig.update_xaxes(title_text=\"number of items\")\n",
    "fig.update_yaxes(title_text=\"time [s]\")\n",
    "fig.update_layout(legend=dict(yanchor=\"top\", y=1, xanchor=\"right\",x=1))\n",
    "fig.update_yaxes(range=[0, 3])\n",
    "#fig.show()\n",
    "fig.write_image(f\"../Presentation/images/summarise_if.svg\")"
   ]
  }
 ],
 "metadata": {
  "kernelspec": {
   "name": "pythonjvsc74a57bd088754a2527441b37fbce28f1b9818606274a057277bf8f72c6fe12de23e344e5",
   "language": "python",
   "display_name": "Python 3.8.6  ('venv': venv)"
  },
  "language_info": {
   "name": "python",
   "version": ""
  },
  "metadata": {
   "interpreter": {
    "hash": "916dbcbb3f70747c44a77c7bcd40155683ae19c65e1c03b4aa3499c5328201f1"
   }
  },
  "orig_nbformat": 2
 },
 "nbformat": 4,
 "nbformat_minor": 2
}