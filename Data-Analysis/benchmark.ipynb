{
 "cells": [
  {
   "cell_type": "code",
   "execution_count": 1,
   "metadata": {},
   "outputs": [],
   "source": [
    "import pandas as pd\n",
    "import numpy as np\n",
    "import plotly.express as px\n",
    "import plotly.graph_objects as go\n",
    "\n",
    "benchmark_file=\"../Data/benchmark.csv\""
   ]
  },
  {
   "cell_type": "code",
   "execution_count": 2,
   "metadata": {},
   "outputs": [],
   "source": [
    "benchmark_data=pd.read_csv(benchmark_file)\n",
    "\n",
    "human_repl={}\n",
    "type_repl={}\n",
    "for lang, lang_repl in {'python': 'Python', 'python_np': 'Python (using numpy)', 'java': 'Java',  'java_direct': 'Java (direct)', 'c': 'C'}.items():\n",
    "    for btype in [\"summarize\",\"summarize_if\",\"no_duplicate\"]:\n",
    "        human_repl[lang+\"_\"+btype]=lang_repl\n",
    "        type_repl[lang+\"_\"+btype]=btype\n",
    "benchmark_data[\"human_label\"]=benchmark_data[\"label\"].replace(human_repl)\n",
    "benchmark_data[\"btype\"]=benchmark_data[\"label\"].replace(type_repl)"
   ]
  },
  {
   "cell_type": "code",
   "execution_count": 3,
   "metadata": {},
   "outputs": [],
   "source": [
    "for btype in benchmark_data[\"btype\"].unique():\n",
    "    fig = go.Figure()\n",
    "    df=benchmark_data[benchmark_data[\"btype\"]==btype]\n",
    "    for name in df[\"human_label\"].unique():\n",
    "        filtered_df=df[df[\"human_label\"]==name]\n",
    "        fig.add_trace(go.Box(x=filtered_df[\"n\"], y=filtered_df[\"time [s]\"], name=name))\n",
    "    \n",
    "    fig.update_layout(\n",
    "        legend=dict(yanchor=\"top\", y=1, xanchor=\"left\",x=0),\n",
    "        margin=dict(t=0, r=0, b=0, l=0),\n",
    "        font=dict(\n",
    "            family=\"Times New Roman\",\n",
    "            size=14,\n",
    "            color=\"black\",\n",
    "        )\n",
    "    )\n",
    "    if btype!=\"no_duplicate\":\n",
    "        fig.update_layout(legend=dict(yanchor=\"top\", y=1, xanchor=\"right\",x=1))\n",
    "    fig.update_xaxes(title_text=\"number of items\")\n",
    "    fig.update_yaxes(title_text=\"time [s]\")\n",
    "    if btype==\"summarize\":\n",
    "        fig.update_yaxes(range=[0, 0.4])\n",
    "    if btype==\"summarize_if\":\n",
    "        fig.update_yaxes(range=[0, 1.5])\n",
    "    #fig.show()\n",
    "    fig.write_image(f\"../Results/figures/{btype}.eps\")"
   ]
  },
  {
   "cell_type": "code",
   "execution_count": 4,
   "metadata": {},
   "outputs": [
    {
     "name": "stdout",
     "output_type": "stream",
     "text": [
      "bool\n"
     ]
    }
   ],
   "source": [
    "a=benchmark_data[\"btype\"]!=\"no_duplicate\"\n",
    "print(a.dtype)"
   ]
  }
 ],
 "metadata": {
  "kernelspec": {
   "display_name": "Python 3.8.6 64-bit",
   "name": "python386jvsc74a57bd0916dbcbb3f70747c44a77c7bcd40155683ae19c65e1c03b4aa3499c5328201f1"
  },
  "language_info": {
   "codemirror_mode": {
    "name": "ipython",
    "version": 3
   },
   "file_extension": ".py",
   "mimetype": "text/x-python",
   "name": "python",
   "nbconvert_exporter": "python",
   "pygments_lexer": "ipython3",
   "version": "3.8.6"
  },
  "metadata": {
   "interpreter": {
    "hash": "916dbcbb3f70747c44a77c7bcd40155683ae19c65e1c03b4aa3499c5328201f1"
   }
  },
  "orig_nbformat": 2
 },
 "nbformat": 4,
 "nbformat_minor": 2
}